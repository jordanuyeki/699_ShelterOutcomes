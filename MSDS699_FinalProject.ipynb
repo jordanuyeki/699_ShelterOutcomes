{ 
 "cells": [
  {
   "cell_type": "markdown",
   "metadata": {},
   "source": [
    "# Predicting Shelter Animal Outcomes\n",
    "## MSDS 699 Final Project\n",
    "### Jordan Uyeki"
   ]
  },
  {
   "cell_type": "markdown",
   "metadata": {},
   "source": [
    "For this project, I analyzed the Austin Animal Center Shelter Outcomes dataset that is publicly available on [Kaggle](https://www.kaggle.com/aaronschlegel/austin-animal-center-shelter-outcomes-and).   \n",
    "\n",
    "My goal was to build a machine learning model that can predict shelter animal outcomes based on their adoption profiles. "
   ]
  },
  {
   "cell_type": "code",
   "execution_count": 36,
   "metadata": {},
   "outputs": [],
   "source": [
    "import pandas as pd\n",
    "import numpy as np\n",
    "import re\n",
    "import math\n",
    "import warnings\n",
    "warnings.filterwarnings('ignore')\n",
    "\n",
    "from sklearn import preprocessing\n",
    "from sklearn.model_selection import train_test_split\n",
    "from sklearn.pipeline import Pipeline, make_pipeline\n",
    "from sklearn.base import TransformerMixin, BaseEstimator, clone\n",
    "from sklearn.linear_model import LogisticRegression, RidgeClassifier\n",
    "from sklearn.ensemble import RandomForestClassifier\n",
    "from sklearn.neighbors import KNeighborsClassifier\n",
    "from sklearn.naive_bayes import GaussianNB\n",
    "from sklearn.preprocessing import MultiLabelBinarizer\n",
    "\n",
    "from sklearn.model_selection import RandomizedSearchCV\n",
    "from   sklearn.metrics import accuracy_score, f1_score, roc_auc_score\n",
    "from sklearn import set_config"
   ]
  },
  {
   "cell_type": "markdown",
   "metadata": {},
   "source": [
    "## The Data"
   ]
  },
  {
   "cell_type": "code",
   "execution_count": 2,
   "metadata": {},
   "outputs": [
    {
     "data": {
      "text/html": [
       "<div>\n",
       "<style scoped>\n",
       "    .dataframe tbody tr th:only-of-type {\n",
       "        vertical-align: middle;\n",
       "    }\n",
       "\n",
       "    .dataframe tbody tr th {\n",
       "        vertical-align: top;\n",
       "    }\n",
       "\n",
       "    .dataframe thead th {\n",
       "        text-align: right;\n",
       "    }\n",
       "</style>\n",
       "<table border=\"1\" class=\"dataframe\">\n",
       "  <thead>\n",
       "    <tr style=\"text-align: right;\">\n",
       "      <th></th>\n",
       "      <th>age_upon_outcome</th>\n",
       "      <th>animal_id</th>\n",
       "      <th>animal_type</th>\n",
       "      <th>breed</th>\n",
       "      <th>color</th>\n",
       "      <th>date_of_birth</th>\n",
       "      <th>datetime</th>\n",
       "      <th>monthyear</th>\n",
       "      <th>name</th>\n",
       "      <th>outcome_subtype</th>\n",
       "      <th>outcome_type</th>\n",
       "      <th>fixed_status</th>\n",
       "      <th>gender</th>\n",
       "    </tr>\n",
       "  </thead>\n",
       "  <tbody>\n",
       "    <tr>\n",
       "      <th>0</th>\n",
       "      <td>2 weeks</td>\n",
       "      <td>A684346</td>\n",
       "      <td>Cat</td>\n",
       "      <td>Domestic Shorthair Mix</td>\n",
       "      <td>Orange Tabby</td>\n",
       "      <td>2014-07-07T00:00:00</td>\n",
       "      <td>2014-07-22T16:04:00</td>\n",
       "      <td>2014-07-22T16:04:00</td>\n",
       "      <td>NaN</td>\n",
       "      <td>Partner</td>\n",
       "      <td>Transfer</td>\n",
       "      <td>Intact</td>\n",
       "      <td>Male</td>\n",
       "    </tr>\n",
       "    <tr>\n",
       "      <th>1</th>\n",
       "      <td>1 year</td>\n",
       "      <td>A666430</td>\n",
       "      <td>Dog</td>\n",
       "      <td>Beagle Mix</td>\n",
       "      <td>White/Brown</td>\n",
       "      <td>2012-11-06T00:00:00</td>\n",
       "      <td>2013-11-07T11:47:00</td>\n",
       "      <td>2013-11-07T11:47:00</td>\n",
       "      <td>Lucy</td>\n",
       "      <td>Partner</td>\n",
       "      <td>Transfer</td>\n",
       "      <td>Spayed</td>\n",
       "      <td>Female</td>\n",
       "    </tr>\n",
       "    <tr>\n",
       "      <th>2</th>\n",
       "      <td>1 year</td>\n",
       "      <td>A675708</td>\n",
       "      <td>Dog</td>\n",
       "      <td>Pit Bull</td>\n",
       "      <td>Blue/White</td>\n",
       "      <td>2013-03-31T00:00:00</td>\n",
       "      <td>2014-06-03T14:20:00</td>\n",
       "      <td>2014-06-03T14:20:00</td>\n",
       "      <td>*Johnny</td>\n",
       "      <td>NaN</td>\n",
       "      <td>Adoption</td>\n",
       "      <td>Neutered</td>\n",
       "      <td>Male</td>\n",
       "    </tr>\n",
       "    <tr>\n",
       "      <th>3</th>\n",
       "      <td>9 years</td>\n",
       "      <td>A680386</td>\n",
       "      <td>Dog</td>\n",
       "      <td>Miniature Schnauzer Mix</td>\n",
       "      <td>White</td>\n",
       "      <td>2005-06-02T00:00:00</td>\n",
       "      <td>2014-06-15T15:50:00</td>\n",
       "      <td>2014-06-15T15:50:00</td>\n",
       "      <td>Monday</td>\n",
       "      <td>Partner</td>\n",
       "      <td>Transfer</td>\n",
       "      <td>Neutered</td>\n",
       "      <td>Male</td>\n",
       "    </tr>\n",
       "    <tr>\n",
       "      <th>4</th>\n",
       "      <td>4 months</td>\n",
       "      <td>A664462</td>\n",
       "      <td>Dog</td>\n",
       "      <td>Leonberger Mix</td>\n",
       "      <td>Brown/White</td>\n",
       "      <td>2013-06-03T00:00:00</td>\n",
       "      <td>2013-10-07T13:06:00</td>\n",
       "      <td>2013-10-07T13:06:00</td>\n",
       "      <td>*Edgar</td>\n",
       "      <td>Partner</td>\n",
       "      <td>Transfer</td>\n",
       "      <td>Intact</td>\n",
       "      <td>Male</td>\n",
       "    </tr>\n",
       "  </tbody>\n",
       "</table>\n",
       "</div>"
      ],
      "text/plain": [
       "  age_upon_outcome animal_id animal_type                    breed  \\\n",
       "0          2 weeks   A684346         Cat   Domestic Shorthair Mix   \n",
       "1           1 year   A666430         Dog               Beagle Mix   \n",
       "2           1 year   A675708         Dog                 Pit Bull   \n",
       "3          9 years   A680386         Dog  Miniature Schnauzer Mix   \n",
       "4         4 months   A664462         Dog           Leonberger Mix   \n",
       "\n",
       "          color        date_of_birth             datetime  \\\n",
       "0  Orange Tabby  2014-07-07T00:00:00  2014-07-22T16:04:00   \n",
       "1   White/Brown  2012-11-06T00:00:00  2013-11-07T11:47:00   \n",
       "2    Blue/White  2013-03-31T00:00:00  2014-06-03T14:20:00   \n",
       "3         White  2005-06-02T00:00:00  2014-06-15T15:50:00   \n",
       "4   Brown/White  2013-06-03T00:00:00  2013-10-07T13:06:00   \n",
       "\n",
       "             monthyear     name outcome_subtype outcome_type fixed_status  \\\n",
       "0  2014-07-22T16:04:00      NaN         Partner     Transfer       Intact   \n",
       "1  2013-11-07T11:47:00     Lucy         Partner     Transfer       Spayed   \n",
       "2  2014-06-03T14:20:00  *Johnny             NaN     Adoption     Neutered   \n",
       "3  2014-06-15T15:50:00   Monday         Partner     Transfer     Neutered   \n",
       "4  2013-10-07T13:06:00   *Edgar         Partner     Transfer       Intact   \n",
       "\n",
       "   gender  \n",
       "0    Male  \n",
       "1  Female  \n",
       "2    Male  \n",
       "3    Male  \n",
       "4    Male  "
      ]
     },
     "execution_count": 2,
     "metadata": {},
     "output_type": "execute_result"
    }
   ],
   "source": [
    "# Reading in data\n",
    "shelter = pd.read_csv('data/shelter_data.csv')\n",
    "shelter.head()"
   ]
  },
  {
   "cell_type": "code",
   "execution_count": 3,
   "metadata": {},
   "outputs": [
    {
     "data": {
      "text/plain": [
       "(56641, 13)"
      ]
     },
     "execution_count": 3,
     "metadata": {},
     "output_type": "execute_result"
    }
   ],
   "source": [
    "shelter.shape"
   ]
  },
  {
   "cell_type": "markdown",
   "metadata": {},
   "source": [
    "This dataset consists of data on over 50,000 dogs and cats that have been in the Austin Animal Services Center System. There are 12 potential model features that can be used to predict the target variable, outcome_type."
   ]
  },
  {
   "cell_type": "markdown",
   "metadata": {},
   "source": [
    "## Feature Engineering"
   ]
  },
  {
   "cell_type": "code",
   "execution_count": 4,
   "metadata": {},
   "outputs": [],
   "source": [
    "# Separating features and targets \n",
    "X = shelter.drop(columns=['outcome_type'])\n",
    "y = shelter[['outcome_type']].values.ravel()"
   ]
  },
  {
   "cell_type": "code",
   "execution_count": 5,
   "metadata": {},
   "outputs": [],
   "source": [
    "# Transforming outcome \n",
    "le = preprocessing.LabelEncoder()\n",
    "le.fit(y)\n",
    "y = le.transform(y) "
   ]
  },
  {
   "cell_type": "code",
   "execution_count": 6,
   "metadata": {},
   "outputs": [],
   "source": [
    "# Splitting out training/testing sets\n",
    "# Using 20% for witheld test set \n",
    "X_train, X_test, y_train, y_test = train_test_split(X, y, test_size=0.20)"
   ]
  },
  {
   "cell_type": "markdown",
   "metadata": {},
   "source": [
    "Some of the variables in the dataset require some feature engineering. To help with the more complex requirements, I borrowed the class definitions from this [Kaggle post](https://www.kaggle.com/jankoch/scikit-learn-pipelines-and-pandas) as it allows custom functions to be applied to specific columns."
   ]
  },
  {
   "cell_type": "code",
   "execution_count": 7,
   "metadata": {},
   "outputs": [],
   "source": [
    "# Transformer Class Definitions \n",
    "class SelectColumnsTransformer(BaseEstimator, TransformerMixin):\n",
    "    \"A DataFrame transformer that provides column selection\" \n",
    "    def __init__(self, columns=[]):\n",
    "        self.columns = columns\n",
    "\n",
    "    def transform(self, X, **transform_params):\n",
    "        \"Select columns of a DataFrame\"\n",
    "        trans = X[self.columns].copy() \n",
    "        return trans\n",
    "\n",
    "    def fit(self, X, y=None, **fit_params):\n",
    "        return self\n",
    "    \n",
    "class DataFrameFunctionTransformer(BaseEstimator, TransformerMixin):\n",
    "    \"A DataFrame transformer providing imputation or function application\"\n",
    "    def __init__(self, func, impute = False):\n",
    "        self.func = func\n",
    "        self.impute = impute\n",
    "        self.series = pd.Series() \n",
    "\n",
    "    def transform(self, X, **transformparams):\n",
    "        \"Transforms a DataFrame\"\n",
    "        if self.impute:\n",
    "            trans = pd.DataFrame(X).fillna(self.series).copy()\n",
    "        else:\n",
    "            trans = pd.DataFrame(X).apply(self.func).copy()\n",
    "        return trans\n",
    "\n",
    "    def fit(self, X, y=None, **fitparams):\n",
    "        \"Fixes the values to impute or does nothing\"\n",
    "        if self.impute:\n",
    "            self.series = pd.DataFrame(X).apply(self.func).copy()\n",
    "        return self\n",
    "    \n",
    "class DataFrameFeatureUnion(BaseEstimator, TransformerMixin):\n",
    "    \"A DataFrame transformer that unites several DataFrame transformers\"\n",
    "    def __init__(self, list_of_transformers):\n",
    "        self.list_of_transformers = list_of_transformers\n",
    "        \n",
    "    def transform(self, X, **transformparamn):\n",
    "        \"Applies the fitted transformers on a DataFrame\"\n",
    "        concatted = pd.concat([transformer.transform(X)\n",
    "                            for transformer in\n",
    "                            self.fitted_transformers_], axis=1).copy()\n",
    "        return concatted\n",
    "\n",
    "    def fit(self, X, y=None, **fitparams):\n",
    "        \"Fits several DataFrame Transformers\"\n",
    "        self.fitted_transformers_ = []\n",
    "        for transformer in self.list_of_transformers:\n",
    "            fitted_trans = clone(transformer).fit(X, y=None, **fitparams)\n",
    "            self.fitted_transformers_.append(fitted_trans)\n",
    "        return self\n",
    "    \n",
    "class ToDummiesTransformer(BaseEstimator, TransformerMixin):\n",
    "    \"A Dataframe transformer that provide dummy variable encoding\"\n",
    "    \n",
    "    def transform(self, X, **transformparams):\n",
    "        \"Returns a dummy variable encoded version of a DataFrame\"\n",
    "        trans = pd.get_dummies(X).copy()\n",
    "        return trans\n",
    "\n",
    "    def fit(self, X, y=None, **fitparams):\n",
    "        return self\n",
    "\n",
    "class DropAllZeroTrainColumnsTransformer(BaseEstimator, TransformerMixin):\n",
    "    \"A DataFrame transformer that provides dropping all-zero columns\"\n",
    "\n",
    "    def transform(self, X, **transformparams):\n",
    "        \"Drops certain all-zero columns of X\"\n",
    "        \n",
    "        trans = X.drop(self.cols_, axis=1).copy()\n",
    "        return trans\n",
    "\n",
    "    def fit(self, X, y=None, **fitparams):\n",
    "        \"Determines the all-zero columns of X\"\n",
    "        self.cols_ = X.columns[(X==0).all()]\n",
    "        return self"
   ]
  },
  {
   "cell_type": "code",
   "execution_count": 8,
   "metadata": {},
   "outputs": [],
   "source": [
    "# Transforming age_upon_outcome column \n",
    "# This column is originally made of strings \n",
    "# Want to make this column numeric (need to calculate all ages to be in years)\n",
    "def age_to_year(x): \n",
    "    \"Calculates age of animal in years\"\n",
    "    age = []\n",
    "    for row in x: \n",
    "        # splitting number from units \n",
    "        age_units = row.split(\" \")\n",
    "        # removing plural from units (eg. year vs years )\n",
    "        age_units[1] = re.sub('s', '', age_units[1])\n",
    "        # converting all ages to years \n",
    "        if age_units[1] == 'day':\n",
    "            age.append(int(age_units[0]) / 365)\n",
    "        elif age_units[1] == 'week':\n",
    "            age.append(int(age_units[0]) / 52)\n",
    "        elif age_units[1] == 'month':\n",
    "            age.append(int(age_units[0]) / 12)\n",
    "        else: \n",
    "            age.append(int(age_units[0]))\n",
    "    return pd.Series(age)\n",
    "\n",
    "# Creating pipeline component for age_upon_outcome transformation \n",
    "age_pipeline = make_pipeline(\n",
    "    SelectColumnsTransformer('age_upon_outcome'),\n",
    "    DataFrameFunctionTransformer(lambda x: age_to_year(x))\n",
    ")"
   ]
  },
  {
   "cell_type": "code",
   "execution_count": 9,
   "metadata": {},
   "outputs": [],
   "source": [
    "# Transforming monthyear column \n",
    "# Want to extract the month to see if time of year impacts outcome \n",
    "# Format of column: 2016-09-23T17:09:00\n",
    "def extract_month(x):\n",
    "    \"Extracts month from column\"\n",
    "    month = []\n",
    "    for row in x: \n",
    "        # Making missing values be NaN for imputation later on \n",
    "        if row == 'NA':\n",
    "            month.append(np.NaN)\n",
    "        # Extracting month if not NA\n",
    "        else:\n",
    "            month.append(int(row[5:7]))\n",
    "    return pd.Series(month)\n",
    "\n",
    "# Creating pipeline component for month transformation \n",
    "month_pipeline = make_pipeline(\n",
    "    SelectColumnsTransformer('monthyear'),\n",
    "    DataFrameFunctionTransformer(lambda x: x.fillna('NA')),\n",
    "    DataFrameFunctionTransformer(lambda x: extract_month(x)),\n",
    "    DataFrameFunctionTransformer(func = np.mean, impute = True)\n",
    ")"
   ]
  },
  {
   "cell_type": "code",
   "execution_count": 10,
   "metadata": {},
   "outputs": [],
   "source": [
    "# Transforming name column\n",
    "# I am interested to see if having a name (versus not having a name) impacts the outcome \n",
    "def has_name(x):\n",
    "    \"Determines if listed animal has a name ('yes' or 'no')\"\n",
    "    name = []\n",
    "    for row in x: \n",
    "        # Does not have name \n",
    "        if row == 'NA':\n",
    "            name.append('no')\n",
    "        # Does have name \n",
    "        else:\n",
    "            name.append('yes')\n",
    "    return pd.Series(name)\n",
    "    \n",
    "# Creating pipeline component for name transformation \n",
    "name_pipeline = make_pipeline(\n",
    "    SelectColumnsTransformer('name'),\n",
    "    DataFrameFunctionTransformer(lambda x: x.fillna('NA')),\n",
    "    DataFrameFunctionTransformer(lambda x: has_name(x)),\n",
    "    ToDummiesTransformer()\n",
    ")"
   ]
  },
  {
   "cell_type": "code",
   "execution_count": 11,
   "metadata": {},
   "outputs": [],
   "source": [
    "# Transforming fixed_status column \n",
    "# Current values are Intact, Spayed, Neutered\n",
    "# Spayed/Neutered could be correlated with the gender column \n",
    "# This column will now only have two possible values: 'Intact' or 'Fixed' (for Spayed/Neutered)\n",
    "def to_fixed(x):\n",
    "    status = []\n",
    "    for row in x: \n",
    "        if row == 'NA': \n",
    "            status.append(row)\n",
    "        elif row == 'Intact':\n",
    "            status.append(row)\n",
    "        else:\n",
    "            status.append('Fixed')\n",
    "    return pd.Series(status)\n",
    "\n",
    "# Creating pipeline component for fixed_status transformation \n",
    "fixed_pipeline = make_pipeline(\n",
    "    SelectColumnsTransformer('fixed_status'),\n",
    "    DataFrameFunctionTransformer(lambda x: x.fillna('NA')),\n",
    "    DataFrameFunctionTransformer(lambda x: to_fixed(x)),\n",
    "    DataFrameFunctionTransformer(lambda x: 'NA', impute = True),\n",
    "    ToDummiesTransformer()\n",
    ")"
   ]
  },
  {
   "cell_type": "code",
   "execution_count": 12,
   "metadata": {},
   "outputs": [],
   "source": [
    "# Imputing missing values on remaining columns \n",
    "def fix_na(x): \n",
    "    res = []\n",
    "    for row in x: \n",
    "        if  not isinstance(row, str):\n",
    "            if math.isnan(row):\n",
    "                res.append('NA')\n",
    "        else: \n",
    "            res.append(row)\n",
    "    return pd.Series(res)\n",
    "\n",
    "# Creating pipeline component for remaining column transformations\n",
    "remaining = ['animal_type', 'gender']\n",
    "remaining_pipeline = make_pipeline(\n",
    "    SelectColumnsTransformer(remaining),\n",
    "    DataFrameFunctionTransformer(lambda x: fix_na(x)), \n",
    "    DataFrameFunctionTransformer(lambda x: 'NA', impute = True),\n",
    "    ToDummiesTransformer()\n",
    ")"
   ]
  },
  {
   "cell_type": "markdown",
   "metadata": {},
   "source": [
    "In summary, the following feature engineering was performed,\n",
    "* age_upon_outcome\n",
    "    * This feature column initially consisted of strings representing the animal's weight in various units (eg. 2 weeks, 1 month, 7 years) \n",
    "    * To make this column numerically comparable, I made all of the ages be in the same scale, years\n",
    "    * Lastly, I imputed missing values using the mean \n",
    "* monthyear\n",
    "    * This feature column initially consisted of datetime objects representing when the animal was listed on the site\n",
    "    * Since I was most interested in whether or not time of year impacts an animal's chance of adoption (eg. maybe people tend to adopt more in December, around the holidays), I extracted the month from this feature column.\n",
    "    * Lastly, I imputed missing values using the mean \n",
    "* name\n",
    "    * This feature column initially consisted of the animal's assignmed name (or NA if it did not have a name listed)\n",
    "    * I decided to just use whether or not the animal had a name listed to make it more applicable to the model  \n",
    "    * Lastly, I imputed missing values and then OneHotEncoded the feature column\n",
    "* fixed_status\n",
    "    * This feature column in initially consisted of 3 possible values, Intact, Spayed, Neutered\n",
    "    * I decided to combine the Spayed/Neutered values into a more general group, Fixed since the initialy categories are gender specific\n",
    "    * Lastly, I imputed missing values and then OneHotEncoded the feature column\n",
    "* animal_type\n",
    "    * This feature column consisted of 2 possible values: Dog, Cat\n",
    "    * There were no major feature engineering requirements but I did impute missing values and then OneHotEncoded the feature column \n",
    "* gender\n",
    "    * This feature column consisted of 2 possible values: Male, Female\n",
    "    * There were no major feature engineering requirements but I did impute missing values and then OneHotEncoded the feature column "
   ]
  },
  {
   "cell_type": "code",
   "execution_count": 13,
   "metadata": {},
   "outputs": [],
   "source": [
    "# Combining feature engineering pipelines into one final preprocessing pipeline\n",
    "prep_pipeline = DataFrameFeatureUnion([age_pipeline, month_pipeline, name_pipeline, fixed_pipeline, remaining_pipeline])"
   ]
  },
  {
   "cell_type": "markdown",
   "metadata": {},
   "source": [
    "## Algorithms & Search"
   ]
  },
  {
   "cell_type": "markdown",
   "metadata": {},
   "source": [
    "I performed a randomized search for the optimal model and its hyperparameters. I included the following models in my search,     \n",
    "* RandomForestClassifier()  \n",
    "* RidgeClassifier()     \n",
    "* LogisticRegression() - multiclass"
   ]
  },
  {
   "cell_type": "code",
   "execution_count": 20,
   "metadata": {},
   "outputs": [],
   "source": [
    "# Dummy Class to be Used for filler in Pipeline Transformations\n",
    "class DummyEstimator(BaseEstimator):\n",
    "    \"Pass through class, methods are present but do nothing.\"\n",
    "    def fit(self): pass\n",
    "    def score(self): pass"
   ]
  },
  {
   "cell_type": "code",
   "execution_count": 21,
   "metadata": {},
   "outputs": [],
   "source": [
    "# Define space of algorithms and hyperparameters to search \n",
    "search_space = [\n",
    "                {'clf': [RandomForestClassifier()],  \n",
    "                 # Number of trees to include (more may improve generality of model)\n",
    "                 'clf__n_estimators': [5, 10, 50, 75, 100, 150, 200],\n",
    "                 # limit tree depth to prevent overfitting \n",
    "                 'clf__max_depth': [10, 25, 50, None],\n",
    "                 # Minimum number of samples needed per leaf (helps prevent overfitting)\n",
    "                 'clf__min_samples_leaf': [1,2,3,4,5],\n",
    "                 # Minimum number of samples required to keep splitting (more may lead to overfitting)\n",
    "                 'clf__min_samples_split': [2,3,4,5],\n",
    "                 # Can balance class weights to even things out (helpful if there is a huge imbalance)\n",
    "                 'clf__class_weight': [None, \"balanced\", \"balanced_subsample\"]\n",
    "                },\n",
    "    \n",
    "                {'clf': [RidgeClassifier()],\n",
    "                 # Specifies regularization strength\n",
    "                 'clf__alpha': [0, 0.2, 0.5, 0.75, 1.0],\n",
    "                 # So X does not get overwritting when fitting model \n",
    "                 'clf__copy_X': [True],\n",
    "                 # Prevent Memory error if algorithm fails to converge\n",
    "                 'clf__max_iter': [50, 100, 150, 200, 300]\n",
    "                },\n",
    "    \n",
    "                {'clf': [LogisticRegression()], \n",
    "                 # norm used in regularization \n",
    "                 'clf__penalty': ['l1', 'l2', 'elasticnet', 'none'],\n",
    "                  # Can balance class weights\n",
    "                 'clf__class_weight': [None, 'balanced'],\n",
    "                 # Prevent Memory error if algorithm fails to converge\n",
    "                 'clf__max_iter': [50, 100, 150, 200, 300],\n",
    "                  # More than 2 outcomes\n",
    "                 'clf__multi_class':['multinomial']}\n",
    "                ]"
   ]
  },
  {
   "cell_type": "code",
   "execution_count": 22,
   "metadata": {},
   "outputs": [],
   "source": [
    "# Set up for random search \n",
    "pipe = Pipeline([('clf', DummyEstimator())]) \n",
    "clf_algos_rand = RandomizedSearchCV(estimator=pipe, \n",
    "                                    param_distributions=search_space, \n",
    "                                    n_iter=25,\n",
    "                                    cv=5, \n",
    "                                    n_jobs=-1,\n",
    "                                    verbose=1)"
   ]
  },
  {
   "cell_type": "code",
   "execution_count": 23,
   "metadata": {},
   "outputs": [
    {
     "name": "stdout",
     "output_type": "stream",
     "text": [
      "Fitting 5 folds for each of 25 candidates, totalling 125 fits\n"
     ]
    },
    {
     "data": {
      "text/plain": [
       "RandomForestClassifier(max_depth=10, min_samples_leaf=4, min_samples_split=3,\n",
       "                       n_estimators=150)"
      ]
     },
     "execution_count": 23,
     "metadata": {},
     "output_type": "execute_result"
    }
   ],
   "source": [
    "# Perform search \n",
    "best_model = clf_algos_rand.fit(prep_pipeline.fit_transform(X_train), y_train);\n",
    "# View best model (from search results)\n",
    "best_model.best_estimator_.get_params()['clf']"
   ]
  },
  {
   "cell_type": "markdown",
   "metadata": {},
   "source": [
    "The final best model from the candidate search is the RandomForestClassifier() with the above hyperparameters (defult ones not shown)."
   ]
  },
  {
   "cell_type": "markdown",
   "metadata": {},
   "source": [
    "## Final Model and Discussion"
   ]
  },
  {
   "cell_type": "code",
   "execution_count": 28,
   "metadata": {},
   "outputs": [],
   "source": [
    "# Final Model with optimal parameters from Randomized Search\n",
    "final_model_pipe = Pipeline([('preprocessing', prep_pipeline),\n",
    "                    ('rf', RandomForestClassifier(n_estimators=150,\n",
    "                                                  max_depth = 10,\n",
    "                                                  min_samples_leaf=4,\n",
    "                                                  min_samples_split=3))])"
   ]
  },
  {
   "cell_type": "code",
   "execution_count": 29,
   "metadata": {},
   "outputs": [
    {
     "data": {
      "text/html": [
       "<style>div.sk-top-container {color: black;background-color: white;}div.sk-toggleable {background-color: white;}label.sk-toggleable__label {cursor: pointer;display: block;width: 100%;margin-bottom: 0;padding: 0.2em 0.3em;box-sizing: border-box;text-align: center;}div.sk-toggleable__content {max-height: 0;max-width: 0;overflow: hidden;text-align: left;background-color: #f0f8ff;}div.sk-toggleable__content pre {margin: 0.2em;color: black;border-radius: 0.25em;background-color: #f0f8ff;}input.sk-toggleable__control:checked~div.sk-toggleable__content {max-height: 200px;max-width: 100%;overflow: auto;}div.sk-estimator input.sk-toggleable__control:checked~label.sk-toggleable__label {background-color: #d4ebff;}div.sk-label input.sk-toggleable__control:checked~label.sk-toggleable__label {background-color: #d4ebff;}input.sk-hidden--visually {border: 0;clip: rect(1px 1px 1px 1px);clip: rect(1px, 1px, 1px, 1px);height: 1px;margin: -1px;overflow: hidden;padding: 0;position: absolute;width: 1px;}div.sk-estimator {font-family: monospace;background-color: #f0f8ff;margin: 0.25em 0.25em;border: 1px dotted black;border-radius: 0.25em;box-sizing: border-box;}div.sk-estimator:hover {background-color: #d4ebff;}div.sk-parallel-item::after {content: \"\";width: 100%;border-bottom: 1px solid gray;flex-grow: 1;}div.sk-label:hover label.sk-toggleable__label {background-color: #d4ebff;}div.sk-serial::before {content: \"\";position: absolute;border-left: 1px solid gray;box-sizing: border-box;top: 2em;bottom: 0;left: 50%;}div.sk-serial {display: flex;flex-direction: column;align-items: center;background-color: white;}div.sk-item {z-index: 1;}div.sk-parallel {display: flex;align-items: stretch;justify-content: center;background-color: white;}div.sk-parallel-item {display: flex;flex-direction: column;position: relative;background-color: white;}div.sk-parallel-item:first-child::after {align-self: flex-end;width: 50%;}div.sk-parallel-item:last-child::after {align-self: flex-start;width: 50%;}div.sk-parallel-item:only-child::after {width: 0;}div.sk-dashed-wrapped {border: 1px dashed gray;margin: 0.2em;box-sizing: border-box;padding-bottom: 0.1em;background-color: white;position: relative;}div.sk-label label {font-family: monospace;font-weight: bold;background-color: white;display: inline-block;line-height: 1.2em;}div.sk-label-container {position: relative;z-index: 2;text-align: center;}div.sk-container {display: inline-block;position: relative;}</style><div class=\"sk-top-container\"><div class=\"sk-container\"><div class=\"sk-item sk-dashed-wrapped\"><div class=\"sk-label-container\"><div class=\"sk-label sk-toggleable\"><input class=\"sk-toggleable__control sk-hidden--visually\" id=\"7a575dae-a5d8-4bc3-baca-8db18e175d01\" type=\"checkbox\" ><label class=\"sk-toggleable__label\" for=\"7a575dae-a5d8-4bc3-baca-8db18e175d01\">Pipeline</label><div class=\"sk-toggleable__content\"><pre>Pipeline(steps=[('preprocessing',\n",
       "                 DataFrameFeatureUnion(list_of_transformers=[Pipeline(steps=[('selectcolumnstransformer',\n",
       "                                                                              SelectColumnsTransformer(columns='age_upon_outcome')),\n",
       "                                                                             ('dataframefunctiontransformer',\n",
       "                                                                              DataFrameFunctionTransformer(func=<function <lambda> at 0x7fcfba6e7550>))]),\n",
       "                                                             Pipeline(steps=[('selectcolumnstransformer',\n",
       "                                                                              SelectColumnsTransformer(c...\n",
       "                                                                             ('dataframefunctiontransformer-1',\n",
       "                                                                              DataFrameFunctionTransformer(func=<function <lambda> at 0x7fcfba6e7dc0>)),\n",
       "                                                                             ('dataframefunctiontransformer-2',\n",
       "                                                                              DataFrameFunctionTransformer(func=<function <lambda> at 0x7fcfba6e7e50>,\n",
       "                                                                                                           impute=True)),\n",
       "                                                                             ('todummiestransformer',\n",
       "                                                                              ToDummiesTransformer())])])),\n",
       "                ('rf',\n",
       "                 RandomForestClassifier(max_depth=10, min_samples_leaf=4,\n",
       "                                        min_samples_split=3,\n",
       "                                        n_estimators=150))])</pre></div></div></div><div class=\"sk-serial\"><div class=\"sk-item\"><div class=\"sk-estimator sk-toggleable\"><input class=\"sk-toggleable__control sk-hidden--visually\" id=\"cfdc03b3-3fa5-4b5b-ae21-e1d9d4e37a3b\" type=\"checkbox\" ><label class=\"sk-toggleable__label\" for=\"cfdc03b3-3fa5-4b5b-ae21-e1d9d4e37a3b\">DataFrameFeatureUnion</label><div class=\"sk-toggleable__content\"><pre>DataFrameFeatureUnion(list_of_transformers=[Pipeline(steps=[('selectcolumnstransformer',\n",
       "                                                             SelectColumnsTransformer(columns='age_upon_outcome')),\n",
       "                                                            ('dataframefunctiontransformer',\n",
       "                                                             DataFrameFunctionTransformer(func=<function <lambda> at 0x7fcfba6e7550>))]),\n",
       "                                            Pipeline(steps=[('selectcolumnstransformer',\n",
       "                                                             SelectColumnsTransformer(columns='monthyear')),\n",
       "                                                            ('dataframef...\n",
       "                                            Pipeline(steps=[('selectcolumnstransformer',\n",
       "                                                             SelectColumnsTransformer(columns=['animal_type',\n",
       "                                                                                               'gender'])),\n",
       "                                                            ('dataframefunctiontransformer-1',\n",
       "                                                             DataFrameFunctionTransformer(func=<function <lambda> at 0x7fcfba6e7dc0>)),\n",
       "                                                            ('dataframefunctiontransformer-2',\n",
       "                                                             DataFrameFunctionTransformer(func=<function <lambda> at 0x7fcfba6e7e50>,\n",
       "                                                                                          impute=True)),\n",
       "                                                            ('todummiestransformer',\n",
       "                                                             ToDummiesTransformer())])])</pre></div></div></div><div class=\"sk-item\"><div class=\"sk-estimator sk-toggleable\"><input class=\"sk-toggleable__control sk-hidden--visually\" id=\"bc93c872-0b38-44e6-943b-2dd7c7b06262\" type=\"checkbox\" ><label class=\"sk-toggleable__label\" for=\"bc93c872-0b38-44e6-943b-2dd7c7b06262\">RandomForestClassifier</label><div class=\"sk-toggleable__content\"><pre>RandomForestClassifier(max_depth=10, min_samples_leaf=4, min_samples_split=3,\n",
       "                       n_estimators=150)</pre></div></div></div></div></div></div></div>"
      ],
      "text/plain": [
       "Pipeline(steps=[('preprocessing',\n",
       "                 DataFrameFeatureUnion(list_of_transformers=[Pipeline(steps=[('selectcolumnstransformer',\n",
       "                                                                              SelectColumnsTransformer(columns='age_upon_outcome')),\n",
       "                                                                             ('dataframefunctiontransformer',\n",
       "                                                                              DataFrameFunctionTransformer(func=<function <lambda> at 0x7fcfba6e7550>))]),\n",
       "                                                             Pipeline(steps=[('selectcolumnstransformer',\n",
       "                                                                              SelectColumnsTransformer(c...\n",
       "                                                                             ('dataframefunctiontransformer-1',\n",
       "                                                                              DataFrameFunctionTransformer(func=<function <lambda> at 0x7fcfba6e7dc0>)),\n",
       "                                                                             ('dataframefunctiontransformer-2',\n",
       "                                                                              DataFrameFunctionTransformer(func=<function <lambda> at 0x7fcfba6e7e50>,\n",
       "                                                                                                           impute=True)),\n",
       "                                                                             ('todummiestransformer',\n",
       "                                                                              ToDummiesTransformer())])])),\n",
       "                ('rf',\n",
       "                 RandomForestClassifier(max_depth=10, min_samples_leaf=4,\n",
       "                                        min_samples_split=3,\n",
       "                                        n_estimators=150))])"
      ]
     },
     "execution_count": 29,
     "metadata": {},
     "output_type": "execute_result"
    }
   ],
   "source": [
    "# Visualizing final pipeline\n",
    "set_config(display='diagram')\n",
    "final_model_pipe"
   ]
  },
  {
   "cell_type": "code",
   "execution_count": 30,
   "metadata": {},
   "outputs": [],
   "source": [
    "# Fitting Model \n",
    "final_model_pipe.fit(X_train, y_train)\n",
    "\n",
    "# Making predictions\n",
    "final_pred  = final_model_pipe.predict(X_test)"
   ]
  },
  {
   "cell_type": "markdown",
   "metadata": {},
   "source": [
    "#### Evaluation Metric 1: Accuracy Score"
   ]
  },
  {
   "cell_type": "markdown",
   "metadata": {},
   "source": [
    "I chose Accuracy Score as one of my evaluation metrics because it tells you about the proportion of times that the model is able to get the classification exactly right.  This is a quick and straightforward way to evaluate the model's overall accuracy."
   ]
  },
  {
   "cell_type": "code",
   "execution_count": 41,
   "metadata": {},
   "outputs": [
    {
     "data": {
      "text/plain": [
       "0.7750904757701474"
      ]
     },
     "execution_count": 41,
     "metadata": {},
     "output_type": "execute_result"
    }
   ],
   "source": [
    "# Accuracy Score of Final Model on Testing Data \n",
    "accuracy_score(y_test, final_pred)"
   ]
  },
  {
   "cell_type": "code",
   "execution_count": 43,
   "metadata": {},
   "outputs": [
    {
     "data": {
      "text/plain": [
       "0.7830155367231638"
      ]
     },
     "execution_count": 43,
     "metadata": {},
     "output_type": "execute_result"
    }
   ],
   "source": [
    "# Accuracy Score of Final Model on Training Data\n",
    "accuracy_score(y_train, final_model_pipe.predict(X_train))"
   ]
  },
  {
   "cell_type": "markdown",
   "metadata": {},
   "source": [
    "The Accuracy Score means that my RandomForestClassifier() machine learning model is able to correctly predict the shelter animal's outcome 77.5% of the time on the test dataset.  I also computed the Accuracy for the training data and it indicates that the model is able to correctly predict the shelter animal's outcome 78.3% of the time on the training dataset. Since my accuracy score on the training and testing set, this gives me confidence in the generality of the model. "
   ]
  },
  {
   "cell_type": "markdown",
   "metadata": {},
   "source": [
    "#### Evaluation Metric 1: F1 Score"
   ]
  },
  {
   "cell_type": "markdown",
   "metadata": {},
   "source": [
    "I chose the F1 Score as my second evaluation metric because it gives information on the overall precision and robustness of the model. It is a balance between the model's precision and recall (weighted averages of correct classifications). "
   ]
  },
  {
   "cell_type": "code",
   "execution_count": 44,
   "metadata": {},
   "outputs": [
    {
     "data": {
      "text/plain": [
       "0.23716605183484238"
      ]
     },
     "execution_count": 44,
     "metadata": {},
     "output_type": "execute_result"
    }
   ],
   "source": [
    "# F1 Score of Final Model\n",
    "f1_score(y_test, final_pred, average='macro')"
   ]
  },
  {
   "cell_type": "code",
   "execution_count": 46,
   "metadata": {},
   "outputs": [
    {
     "data": {
      "text/plain": [
       "0.25454762621541915"
      ]
     },
     "execution_count": 46,
     "metadata": {},
     "output_type": "execute_result"
    }
   ],
   "source": [
    "# F1 Score of Final Model on Training Data\n",
    "f1_score(y_train, final_model_pipe.predict(X_train), average='macro')"
   ]
  },
  {
   "cell_type": "markdown",
   "metadata": {},
   "source": [
    "The F1 score of 0.237 indicates that the model has poor precision and recall and is not as precise as we would want at predicting the shelter animal outcomes. Like the accuracy score, the F1 score on the training data (0.255) is barely better than the F1 score on the testing data, which further validates the generality of the model.   \n",
    "\n",
    "I will discuss possible model modifications to improve the evaluation metrics in the next section."
   ]
  },
  {
   "cell_type": "markdown",
   "metadata": {},
   "source": [
    "## Summary"
   ]
  },
  {
   "cell_type": "code",
   "execution_count": 50,
   "metadata": {},
   "outputs": [
    {
     "data": {
      "text/html": [
       "<style>div.sk-top-container {color: black;background-color: white;}div.sk-toggleable {background-color: white;}label.sk-toggleable__label {cursor: pointer;display: block;width: 100%;margin-bottom: 0;padding: 0.2em 0.3em;box-sizing: border-box;text-align: center;}div.sk-toggleable__content {max-height: 0;max-width: 0;overflow: hidden;text-align: left;background-color: #f0f8ff;}div.sk-toggleable__content pre {margin: 0.2em;color: black;border-radius: 0.25em;background-color: #f0f8ff;}input.sk-toggleable__control:checked~div.sk-toggleable__content {max-height: 200px;max-width: 100%;overflow: auto;}div.sk-estimator input.sk-toggleable__control:checked~label.sk-toggleable__label {background-color: #d4ebff;}div.sk-label input.sk-toggleable__control:checked~label.sk-toggleable__label {background-color: #d4ebff;}input.sk-hidden--visually {border: 0;clip: rect(1px 1px 1px 1px);clip: rect(1px, 1px, 1px, 1px);height: 1px;margin: -1px;overflow: hidden;padding: 0;position: absolute;width: 1px;}div.sk-estimator {font-family: monospace;background-color: #f0f8ff;margin: 0.25em 0.25em;border: 1px dotted black;border-radius: 0.25em;box-sizing: border-box;}div.sk-estimator:hover {background-color: #d4ebff;}div.sk-parallel-item::after {content: \"\";width: 100%;border-bottom: 1px solid gray;flex-grow: 1;}div.sk-label:hover label.sk-toggleable__label {background-color: #d4ebff;}div.sk-serial::before {content: \"\";position: absolute;border-left: 1px solid gray;box-sizing: border-box;top: 2em;bottom: 0;left: 50%;}div.sk-serial {display: flex;flex-direction: column;align-items: center;background-color: white;}div.sk-item {z-index: 1;}div.sk-parallel {display: flex;align-items: stretch;justify-content: center;background-color: white;}div.sk-parallel-item {display: flex;flex-direction: column;position: relative;background-color: white;}div.sk-parallel-item:first-child::after {align-self: flex-end;width: 50%;}div.sk-parallel-item:last-child::after {align-self: flex-start;width: 50%;}div.sk-parallel-item:only-child::after {width: 0;}div.sk-dashed-wrapped {border: 1px dashed gray;margin: 0.2em;box-sizing: border-box;padding-bottom: 0.1em;background-color: white;position: relative;}div.sk-label label {font-family: monospace;font-weight: bold;background-color: white;display: inline-block;line-height: 1.2em;}div.sk-label-container {position: relative;z-index: 2;text-align: center;}div.sk-container {display: inline-block;position: relative;}</style><div class=\"sk-top-container\"><div class=\"sk-container\"><div class=\"sk-item\"><div class=\"sk-estimator sk-toggleable\"><input class=\"sk-toggleable__control sk-hidden--visually\" id=\"05a08273-fe2f-4aaa-b3fb-ac66450d156f\" type=\"checkbox\" checked><label class=\"sk-toggleable__label\" for=\"05a08273-fe2f-4aaa-b3fb-ac66450d156f\">RandomForestClassifier</label><div class=\"sk-toggleable__content\"><pre>RandomForestClassifier(max_depth=10, min_samples_leaf=4, min_samples_split=3,\n",
       "                       n_estimators=150)</pre></div></div></div></div></div>"
      ],
      "text/plain": [
       "RandomForestClassifier(max_depth=10, min_samples_leaf=4, min_samples_split=3,\n",
       "                       n_estimators=150)"
      ]
     },
     "execution_count": 50,
     "metadata": {},
     "output_type": "execute_result"
    }
   ],
   "source": [
    "# Final Model \n",
    "best_model.best_params_['clf']"
   ]
  },
  {
   "cell_type": "markdown",
   "metadata": {},
   "source": [
    "In future iterations of the project, I would like to make improvements in the following areas,\n",
    "* I would like to perform a more in-depth analysis of feature importance. I did some EDA and visualizations to explore the impact of the different data features on shelter animal outcomes but I would like to use sklearn's permutation_performance() functionality to automate this and make the evaluation be more robust. \n",
    "* The target variable consisted of many closely related outcomes; the current possible outcomes include 'Transfer', 'Adoption', 'Died', 'Euthanasia', 'Missing', 'Disposal', 'Rto-Adopt'. In the future, I might consider combining some of these into one group.  I think that this might improve the model's evaluation metrics because closely related features would be considered to be the same. For example, I might try turning this into a classification model by aggregating the current target outcomes to 2 classes, positive outcome and negative outcome. \n",
    "* I would also like to incorporate other variables that were available in the dataset, specifically Breed and Fur Color. Since these values are manually inputted, there are way too many unique values to include in the model. I would like into more advanced feature engineering techniques, possibly incoporating some NLP, to extract the underlying information from these columns. "
   ]
  },
  {
   "cell_type": "markdown",
   "metadata": {},
   "source": [
    "With further improvements, this model could be very useful in the animal welfare sectors. Thousands of dogs and cats are registered in rescue/shelter/pound systems each year. Many of these animals are fortunate enough to find forever homes but others are not so lucky. According the the ASPCA, over 1.5 million shelter animals are euthanized each year due to overcapacity. To help lower this number, this model could be used as a way to evaluate shelter animal adoption profiles to optimize their chance of finding a family of their own. "
   ]
  }
 ],
 "metadata": {
  "kernelspec": {
   "display_name": "Python 3",
   "language": "python",
   "name": "python3"
  },
  "language_info": {
   "codemirror_mode": {
    "name": "ipython",
    "version": 3
   },
   "file_extension": ".py",
   "mimetype": "text/x-python",
   "name": "python",
   "nbconvert_exporter": "python",
   "pygments_lexer": "ipython3",
   "version": "3.8.3"
  }
 },
 "nbformat": 4,
 "nbformat_minor": 4
}
